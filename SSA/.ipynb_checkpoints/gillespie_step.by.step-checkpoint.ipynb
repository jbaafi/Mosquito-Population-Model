{
 "cells": [
  {
   "cell_type": "code",
   "execution_count": 1,
   "id": "2300e7e8",
   "metadata": {},
   "outputs": [],
   "source": [
    "# Importing packages \n",
    "import numpy as np\n",
    "import matplotlib\n",
    "matplotlib.use('tkagg')\n",
    "import matplotlib.pyplot as plt\n",
    "import random"
   ]
  },
  {
   "cell_type": "code",
   "execution_count": 6,
   "id": "86b979a6",
   "metadata": {},
   "outputs": [
    {
     "name": "stdout",
     "output_type": "stream",
     "text": [
      "CPU times: user 4 µs, sys: 0 ns, total: 4 µs\n",
      "Wall time: 8.11 µs\n"
     ]
    }
   ],
   "source": [
    "%%time\n",
    "# Define initial states\n",
    "E = [10]\n",
    "L = [10]\n",
    "P = [10]\n",
    "A = [10]\n",
    "\n",
    "# Initial(starting) time\n",
    "t = [0]\n",
    "\n",
    "#Time to end the simulation\n",
    "tend = 50\n",
    "\n",
    "#Parameter values\n",
    "alpha_b = 100    # average number of eggs laid per oviposition (source: CDC)\n",
    "phi = 1/4 #0.051 # oviposition rate per adult mosquito (source: https://www.pascomosquito.org/resources/mosquito-biology/, https://megacatch.com/mosquito-lifecycle-faqs/)\n",
    "delta_E = 1/2    # hatching rate of eggs into larvae\n",
    "delta_L = 1/5    # development rate of larvae into pupae\n",
    "delta_P = 1/2    # development rate of pupae into adult\n",
    "k = 1/2          # fraction of juviniles becoming adult females\n",
    "mu_E = 0.01      # egg mortality rate\n",
    "mu_L = 0.01      # larva mortality rate\n",
    "mu_P = 0.01      # pupal mortality rate\n",
    "mu_A = 1/42      # mortality rate of adult mosquitoes (source: https://www.vdci.net/mosquito-biology-101-life-cycle/)"
   ]
  },
  {
   "cell_type": "code",
   "execution_count": 7,
   "id": "dd485cd2",
   "metadata": {},
   "outputs": [
    {
     "name": "stdout",
     "output_type": "stream",
     "text": [
      "CPU times: user 20min 10s, sys: 18.9 s, total: 20min 29s\n",
      "Wall time: 20min 42s\n"
     ]
    }
   ],
   "source": [
    "%%time\n",
    "while t[-1] < tend:\n",
    "\n",
    "        rates = [ alpha_b * phi * A[-1], delta_E * E[-1], delta_L * L[-1], k * delta_P * P[-1], \\\n",
    "                mu_E * E[-1], mu_L * L[-1], mu_P * P[-1], mu_A * A[-1]]\n",
    "\n",
    "        rate_sum = sum(rates)\n",
    "        if rate_sum == 0:\n",
    "                break\n",
    "\n",
    "        tau = np.random.exponential(scale=1/rate_sum)\n",
    "\n",
    "        t.append(t[-1] + tau)\n",
    "\n",
    "        rand = random.uniform(0,1)\n",
    "        \n",
    "        \n",
    "        # Egg oviposition event\n",
    "        if rand * rate_sum <= rates[0]:\n",
    "            \n",
    "                E.append(E[-1] + 1)\n",
    "                L.append(L[-1])\n",
    "                P.append(P[-1])\n",
    "                A.append(A[-1])\n",
    "        \n",
    "        # Hatching of eggs and development of larvae event\n",
    "        elif rand * rate_sum > rates[0] and rand * rate_sum <= sum(rates[:2]):\n",
    "            \n",
    "                E.append(E[-1] - 1)\n",
    "                L.append(L[-1] + 1)\n",
    "                P.append(P[-1])\n",
    "                A.append(A[-1])\n",
    "                \n",
    "        # Development of larvae into pupae event\n",
    "        elif rand * rate_sum > sum(rates[:2]) and rand * rate_sum <= sum(rates[:3]):\n",
    "\n",
    "                E.append(E[-1])\n",
    "                L.append(L[-1] - 1)\n",
    "                P.append(P[-1] + 1)\n",
    "                A.append(A[-1])\n",
    "\n",
    "        # Development of pupa into adults event\n",
    "        elif rand * rate_sum > sum(rates[:3]) and rand * rate_sum <= sum(rates[:4]):\n",
    "\n",
    "                E.append(E[-1])\n",
    "                L.append(L[-1])\n",
    "                P.append(P[-1] - 1)\n",
    "                A.append(A[-1] + 1)\n",
    "\n",
    "        # Egg mortality event\n",
    "        elif rand * rate_sum > sum(rates[:4]) and rand * rate_sum <= sum(rates[:5]):\n",
    "\n",
    "                E.append(E[-1] - 1)\n",
    "                L.append(L[-1])\n",
    "                P.append(P[-1])\n",
    "                A.append(A[-1])\n",
    "\n",
    "        # Larvae mortality event\n",
    "        elif rand * rate_sum > sum(rates[:5]) and rand * rate_sum <= sum(rates[:6]):\n",
    "            \n",
    "                E.append(E[-1])\n",
    "                L.append(L[-1] - 1)\n",
    "                P.append(P[-1])\n",
    "                A.append(A[-1])\n",
    "        \n",
    "        \n",
    "        # Pupae mortality event\n",
    "        elif rand * rate_sum > sum(rates[:6]) and rand * rate_sum <= sum(rates[:7]):\n",
    "\n",
    "                E.append(E[-1])\n",
    "                L.append(L[-1])\n",
    "                P.append(P[-1] - 1)\n",
    "                A.append(A[-1])\n",
    "\n",
    "        # Adult mortality event\n",
    "        elif rand * rate_sum > sum(rates[:7]) and rand * rate_sum <= sum(rates[:8]):\n",
    "            \n",
    "                E.append(E[-1])\n",
    "                L.append(L[-1])\n",
    "                P.append(P[-1])\n",
    "                A.append(A[-1] - 1)\n"
   ]
  },
  {
   "cell_type": "code",
   "execution_count": null,
   "id": "e3358c82",
   "metadata": {},
   "outputs": [],
   "source": []
  },
  {
   "cell_type": "code",
   "execution_count": null,
   "id": "ab983221",
   "metadata": {},
   "outputs": [],
   "source": [
    "%%time\n",
    "E_plot, = plt.plot(t,E, label=\"E\")\n",
    "L_plot, = plt.plot(t,L, label=\"L\")\n",
    "P_plot, = plt.plot(t,P, label=\"P\")\n",
    "A_plot, = plt.plot(t,A, label=\"A\")\n",
    "\n",
    "plt.legend(handles=[E_plot, L_plot, P_plot, A_plot])\n",
    "plt.xlabel(\"Time\")\n",
    "plt.ylabel(\"Abundance\")\n",
    "plt.show()"
   ]
  }
 ],
 "metadata": {
  "kernelspec": {
   "display_name": "Python 3 (ipykernel)",
   "language": "python",
   "name": "python3"
  },
  "language_info": {
   "codemirror_mode": {
    "name": "ipython",
    "version": 3
   },
   "file_extension": ".py",
   "mimetype": "text/x-python",
   "name": "python",
   "nbconvert_exporter": "python",
   "pygments_lexer": "ipython3",
   "version": "3.8.10"
  }
 },
 "nbformat": 4,
 "nbformat_minor": 5
}
