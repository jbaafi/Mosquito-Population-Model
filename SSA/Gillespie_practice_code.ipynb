{
 "cells": [
  {
   "cell_type": "code",
   "execution_count": null,
   "id": "f45572ce",
   "metadata": {},
   "outputs": [],
   "source": [
    "import numpy as np\n",
    "import matplotlib\n",
    "matplotlib.use('tkagg')\n",
    "import matplotlib.pyplot as plt\n",
    "import random"
   ]
  },
  {
   "cell_type": "code",
   "execution_count": 2,
   "id": "e8903042",
   "metadata": {},
   "outputs": [
    {
     "name": "stdout",
     "output_type": "stream",
     "text": [
      "CPU times: user 6 µs, sys: 1e+03 ns, total: 7 µs\n",
      "Wall time: 8.82 µs\n"
     ]
    }
   ],
   "source": [
    "%%time\n",
    "G1 = [0]\n",
    "G2 = [0]\n",
    "G3 = [0]\n",
    "t = [0]\n",
    "\n",
    "tend = 1000\n",
    "\n",
    "k_1 = 2\n",
    "gamma_1 = 0.1\n",
    "k_2 = 2\n",
    "gamma_2 = 0.1\n",
    "k_3 = 2\n",
    "gamma_3 = 0.1\n",
    "n = 9\n",
    "c = 1"
   ]
  },
  {
   "cell_type": "code",
   "execution_count": 4,
   "id": "47f9622d",
   "metadata": {},
   "outputs": [
    {
     "name": "stdout",
     "output_type": "stream",
     "text": [
      "CPU times: user 50.2 ms, sys: 1.94 ms, total: 52.2 ms\n",
      "Wall time: 50.7 ms\n"
     ]
    }
   ],
   "source": [
    "%%time\n",
    "while t[-1] < tend:\n",
    "\n",
    "        current_G1 = G1[-1]\n",
    "        current_G2 = G2[-1]\n",
    "        current_G3 = G3[-1]\n",
    "\n",
    "        rates = [(c**n / (c**n + current_G3**n)) * k_1, gamma_1 * current_G1, \\\n",
    "        (current_G1**n / (c**n + current_G1**n)) * k_2, gamma_2 * current_G2, \\\n",
    "        (current_G2**n / (c**n + current_G2**n)) * k_3, gamma_3 * current_G3]\n",
    "\n",
    "        rate_sum = sum(rates)\n",
    "\n",
    "        tau = np.random.exponential(scale=1/rate_sum)\n",
    "\n",
    "        t.append(t[-1] + tau)\n",
    "\n",
    "        rand = random.uniform(0,1)\n",
    "\n",
    "\n",
    "        # G1 production event\n",
    "        if rand * rate_sum <= rates[0]:\n",
    "                G1.append(G1[-1] + 1)\n",
    "                G2.append(G2[-1])\n",
    "                G3.append(G3[-1])\n",
    "\n",
    "        # G1 decay event\n",
    "        elif rand * rate_sum > rates[0] and rand * rate_sum <= sum(rates[:2]):\n",
    "                G1.append(G1[-1] - 1)\n",
    "                G2.append(G2[-1])\n",
    "                G3.append(G3[-1])\n",
    "\n",
    "        # G2 production event\n",
    "        elif rand * rate_sum > sum(rates[:2]) and rand * rate_sum <= sum(rates[:3]):\n",
    "\n",
    "                G1.append(G1[-1])\n",
    "                G2.append(G2[-1] + 1)\n",
    "                G3.append(G3[-1])\n",
    "\n",
    "        # G2 decay event\n",
    "        elif rand * rate_sum > sum(rates[:3]) and rand * rate_sum <= sum(rates[:4]):\n",
    "\n",
    "                G1.append(G1[-1])\n",
    "                G2.append(G2[-1] - 1)\n",
    "                G3.append(G3[-1])\n",
    "\n",
    "        # G3 production event\n",
    "        elif rand * rate_sum > sum(rates[:4]) and rand * rate_sum <= sum(rates[:5]):\n",
    "\n",
    "                G1.append(G1[-1])\n",
    "                G2.append(G2[-1])\n",
    "                G3.append(G3[-1] + 1)\n",
    "\n",
    "        # G3 decay event\n",
    "        elif rand * rate_sum > sum(rates[:5]) and rand * rate_sum <= sum(rates[:6]):\n",
    "                G1.append(G1[-1])\n",
    "                G2.append(G2[-1])\n",
    "                G3.append(G3[-1] - 1)"
   ]
  },
  {
   "cell_type": "code",
   "execution_count": null,
   "id": "c1ca9a3f",
   "metadata": {},
   "outputs": [],
   "source": [
    "%%time\n",
    "f, (ax1, ax2, ax3) = plt.subplots(3, sharex=True, sharey=False)\n",
    "line1, = ax1.plot(t , G1, color=\"b\",label=\"G1\")\n",
    "line2, = ax2.plot(t , G2, color=\"r\",label=\"G2\")\n",
    "line3, = ax3.plot(t , G3, color=\"g\",label=\"G3\")\n",
    "ax1.set_ylabel('Number')\n",
    "ax1.set_xlabel('Time')\n",
    "ax1.legend(handles=[line1,line2,line3])\n",
    "plt.show()"
   ]
  },
  {
   "cell_type": "code",
   "execution_count": 1,
   "id": "7369d601",
   "metadata": {},
   "outputs": [
    {
     "name": "stdout",
     "output_type": "stream",
     "text": [
      "1D Array with random values : \n",
      " [ 1.12211553 -0.45770113 -0.1406273   1.44632305 -0.52522951]\n"
     ]
    }
   ],
   "source": [
    "import numpy as np \n",
    "# numpy.random.normal() method\n",
    "random_array = np.random.normal(0.0, 1.0, 5)\n",
    "  \n",
    "# printing 1D array with random numbers\n",
    "print(\"1D Array with random values : \\n\", random_array)"
   ]
  },
  {
   "cell_type": "code",
   "execution_count": 4,
   "id": "e95ca059",
   "metadata": {},
   "outputs": [
    {
     "data": {
      "image/png": "[encoded data removed]",
      "text/plain": [
       "<Figure size 432x288 with 1 Axes>"
      ]
     },
     "metadata": {
      "needs_background": "light"
     },
     "output_type": "display_data"
    }
   ],
   "source": [
    "import matplotlib.pyplot as plt\n",
    "plt.plot(random_array)\n",
    "plt.show()"
   ]
  },
  {
   "cell_type": "code",
   "execution_count": 4,
   "id": "f0c83fc1",
   "metadata": {},
   "outputs": [],
   "source": [
    "\n"
   ]
  },
  {
   "cell_type": "code",
   "execution_count": 9,
   "id": "2d47260c",
   "metadata": {},
   "outputs": [],
   "source": []
  },
  {
   "cell_type": "code",
   "execution_count": null,
   "id": "4df97b8e",
   "metadata": {},
   "outputs": [],
   "source": []
  },
  {
   "cell_type": "code",
   "execution_count": null,
   "id": "21c643dc",
   "metadata": {},
   "outputs": [],
   "source": []
  },
  {
   "cell_type": "code",
   "execution_count": 13,
   "id": "f5ccb52a",
   "metadata": {},
   "outputs": [],
   "source": []
  },
  {
   "cell_type": "code",
   "execution_count": 14,
   "id": "f60bb949",
   "metadata": {},
   "outputs": [],
   "source": []
  },
  {
   "cell_type": "code",
   "execution_count": null,
   "id": "441e272b",
   "metadata": {},
   "outputs": [],
   "source": []
  },
  {
   "cell_type": "code",
   "execution_count": null,
   "id": "feabceea",
   "metadata": {},
   "outputs": [],
   "source": []
  }
 ],
 "metadata": {
  "kernelspec": {
   "display_name": "Python 3 (ipykernel)",
   "language": "python",
   "name": "python3"
  },
  "language_info": {
   "codemirror_mode": {
    "name": "ipython",
    "version": 3
   },
   "file_extension": ".py",
   "mimetype": "text/x-python",
   "name": "python",
   "nbconvert_exporter": "python",
   "pygments_lexer": "ipython3",
   "version": "3.8.10"
  }
 },
 "nbformat": 4,
 "nbformat_minor": 5
}
