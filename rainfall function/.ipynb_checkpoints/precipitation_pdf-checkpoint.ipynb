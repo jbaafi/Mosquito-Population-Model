{
 "cells": [
  {
   "cell_type": "code",
   "execution_count": 2,
   "id": "123a19b8",
   "metadata": {},
   "outputs": [],
   "source": [
    "import re\n",
    "import pandas as pd\n",
    "import numpy as np\n",
    "import scipy\n",
    "import scipy.stats\n",
    "from scipy.stats import *\n",
    "from sklearn.preprocessing import StandardScaler\n",
    "import math\n",
    "import matplotlib.pyplot as plt\n",
    "import warnings\n",
    "import statsmodels.api as sm\n",
    "import seaborn as sns\n",
    "import pylab as py \n",
    "warnings.filterwarnings('ignore')\n",
    "%matplotlib inline"
   ]
  },
  {
   "cell_type": "code",
   "execution_count": 4,
   "id": "62d0c431",
   "metadata": {},
   "outputs": [
    {
     "data": {
      "text/html": [
       "<div>\n",
       "<style scoped>\n",
       "    .dataframe tbody tr th:only-of-type {\n",
       "        vertical-align: middle;\n",
       "    }\n",
       "\n",
       "    .dataframe tbody tr th {\n",
       "        vertical-align: top;\n",
       "    }\n",
       "\n",
       "    .dataframe thead th {\n",
       "        text-align: right;\n",
       "    }\n",
       "</style>\n",
       "<table border=\"1\" class=\"dataframe\">\n",
       "  <thead>\n",
       "    <tr style=\"text-align: right;\">\n",
       "      <th></th>\n",
       "      <th>Unnamed: 0</th>\n",
       "      <th>sub.precip</th>\n",
       "    </tr>\n",
       "  </thead>\n",
       "  <tbody>\n",
       "    <tr>\n",
       "      <th>0</th>\n",
       "      <td>1</td>\n",
       "      <td>7.5</td>\n",
       "    </tr>\n",
       "    <tr>\n",
       "      <th>1</th>\n",
       "      <td>2</td>\n",
       "      <td>1.9</td>\n",
       "    </tr>\n",
       "    <tr>\n",
       "      <th>2</th>\n",
       "      <td>3</td>\n",
       "      <td>2.0</td>\n",
       "    </tr>\n",
       "    <tr>\n",
       "      <th>3</th>\n",
       "      <td>4</td>\n",
       "      <td>4.0</td>\n",
       "    </tr>\n",
       "    <tr>\n",
       "      <th>4</th>\n",
       "      <td>5</td>\n",
       "      <td>3.6</td>\n",
       "    </tr>\n",
       "  </tbody>\n",
       "</table>\n",
       "</div>"
      ],
      "text/plain": [
       "   Unnamed: 0  sub.precip\n",
       "0           1         7.5\n",
       "1           2         1.9\n",
       "2           3         2.0\n",
       "3           4         4.0\n",
       "4           5         3.6"
      ]
     },
     "execution_count": 4,
     "metadata": {},
     "output_type": "execute_result"
    }
   ],
   "source": [
    "df = pd.read_csv('precip_df.csv')\n",
    "df.head()"
   ]
  },
  {
   "cell_type": "code",
   "execution_count": 5,
   "id": "29752a27",
   "metadata": {},
   "outputs": [
    {
     "data": {
      "text/plain": [
       "(577, 2)"
      ]
     },
     "execution_count": 5,
     "metadata": {},
     "output_type": "execute_result"
    }
   ],
   "source": [
    "df.shape"
   ]
  },
  {
   "cell_type": "code",
   "execution_count": 6,
   "id": "6187cfe4",
   "metadata": {},
   "outputs": [
    {
     "data": {
      "text/plain": [
       "Unnamed: 0      int64\n",
       "sub.precip    float64\n",
       "dtype: object"
      ]
     },
     "execution_count": 6,
     "metadata": {},
     "output_type": "execute_result"
    }
   ],
   "source": [
    "df.dtypes"
   ]
  },
  {
   "cell_type": "code",
   "execution_count": 7,
   "id": "6930129e",
   "metadata": {},
   "outputs": [
    {
     "data": {
      "text/html": [
       "<div>\n",
       "<style scoped>\n",
       "    .dataframe tbody tr th:only-of-type {\n",
       "        vertical-align: middle;\n",
       "    }\n",
       "\n",
       "    .dataframe tbody tr th {\n",
       "        vertical-align: top;\n",
       "    }\n",
       "\n",
       "    .dataframe thead th {\n",
       "        text-align: right;\n",
       "    }\n",
       "</style>\n",
       "<table border=\"1\" class=\"dataframe\">\n",
       "  <thead>\n",
       "    <tr style=\"text-align: right;\">\n",
       "      <th></th>\n",
       "      <th>Unnamed: 0</th>\n",
       "      <th>sub.precip</th>\n",
       "    </tr>\n",
       "  </thead>\n",
       "  <tbody>\n",
       "    <tr>\n",
       "      <th>count</th>\n",
       "      <td>577.000000</td>\n",
       "      <td>577.00000</td>\n",
       "    </tr>\n",
       "    <tr>\n",
       "      <th>mean</th>\n",
       "      <td>289.000000</td>\n",
       "      <td>7.39636</td>\n",
       "    </tr>\n",
       "    <tr>\n",
       "      <th>std</th>\n",
       "      <td>166.709828</td>\n",
       "      <td>7.60678</td>\n",
       "    </tr>\n",
       "    <tr>\n",
       "      <th>min</th>\n",
       "      <td>1.000000</td>\n",
       "      <td>1.00000</td>\n",
       "    </tr>\n",
       "    <tr>\n",
       "      <th>25%</th>\n",
       "      <td>145.000000</td>\n",
       "      <td>2.00000</td>\n",
       "    </tr>\n",
       "    <tr>\n",
       "      <th>50%</th>\n",
       "      <td>289.000000</td>\n",
       "      <td>4.50000</td>\n",
       "    </tr>\n",
       "    <tr>\n",
       "      <th>75%</th>\n",
       "      <td>433.000000</td>\n",
       "      <td>9.70000</td>\n",
       "    </tr>\n",
       "    <tr>\n",
       "      <th>max</th>\n",
       "      <td>577.000000</td>\n",
       "      <td>45.80000</td>\n",
       "    </tr>\n",
       "  </tbody>\n",
       "</table>\n",
       "</div>"
      ],
      "text/plain": [
       "       Unnamed: 0  sub.precip\n",
       "count  577.000000   577.00000\n",
       "mean   289.000000     7.39636\n",
       "std    166.709828     7.60678\n",
       "min      1.000000     1.00000\n",
       "25%    145.000000     2.00000\n",
       "50%    289.000000     4.50000\n",
       "75%    433.000000     9.70000\n",
       "max    577.000000    45.80000"
      ]
     },
     "execution_count": 7,
     "metadata": {},
     "output_type": "execute_result"
    }
   ],
   "source": [
    "df.describe()"
   ]
  },
  {
   "cell_type": "code",
   "execution_count": 8,
   "id": "5fbcbc27",
   "metadata": {},
   "outputs": [
    {
     "data": {
      "text/plain": [
       "Unnamed: 0    0\n",
       "sub.precip    0\n",
       "dtype: int64"
      ]
     },
     "execution_count": 8,
     "metadata": {},
     "output_type": "execute_result"
    }
   ],
   "source": [
    "df.isna().sum()"
   ]
  },
  {
   "cell_type": "code",
   "execution_count": 9,
   "id": "9e4d1ff8",
   "metadata": {},
   "outputs": [
    {
     "data": {
      "text/plain": [
       "<AxesSubplot:>"
      ]
     },
     "execution_count": 9,
     "metadata": {},
     "output_type": "execute_result"
    },
    {
     "data": {
      "image/png": "[encoded data removed]",
      "text/plain": [
       "<Figure size 432x288 with 1 Axes>"
      ]
     },
     "metadata": {
      "needs_background": "light"
     },
     "output_type": "display_data"
    }
   ],
   "source": [
    "df['sub.precip'].hist()"
   ]
  },
  {
   "cell_type": "code",
   "execution_count": 10,
   "id": "e65dbd8a",
   "metadata": {},
   "outputs": [],
   "source": [
    "def standarise(column,pct,pct_lower):\n",
    "    sc = StandardScaler() \n",
    "    y = df[column][df[column].notnull()].to_list()\n",
    "    y.sort()\n",
    "    len_y = len(y)\n",
    "    y = y[int(pct_lower * len_y):int(len_y * pct)]\n",
    "    len_y = len(y)\n",
    "    yy=([[x] for x in y])\n",
    "    sc.fit(yy)\n",
    "    y_std =sc.transform(yy)\n",
    "    y_std = y_std.flatten()\n",
    "    return y_std,len_y,y"
   ]
  },
  {
   "cell_type": "code",
   "execution_count": 11,
   "id": "b99dbb39",
   "metadata": {},
   "outputs": [],
   "source": [
    "def fit_distribution(column,pct,pct_lower):\n",
    "    # Set up list of candidate distributions to use\n",
    "    # See https://docs.scipy.org/doc/scipy/reference/stats.html for more\n",
    "    \n",
    "    # Try using levy and log-cauchy distributions\n",
    "    y_std,size,y_org = standarise(column,pct,pct_lower)\n",
    "    \n",
    "\n",
    "    dist_names = ['weibull_min','levy','weibull_max','beta',\n",
    "                 'invgauss','gamma','expon', 'lognorm','pearson3','triang', \"chi2\"]\n",
    "\n",
    "    chi_square_statistics = []\n",
    "    # 11 bins\n",
    "    percentile_bins = np.linspace(0,100,11)\n",
    "    percentile_cutoffs = np.percentile(y_std, percentile_bins)\n",
    "    observed_frequency, bins = (np.histogram(y_std, bins=percentile_cutoffs))\n",
    "    cum_observed_frequency = np.cumsum(observed_frequency)\n",
    "\n",
    "    # Loop through candidate distributions\n",
    "\n",
    "    for distribution in dist_names:\n",
    "        # Set up distribution and get fitted distribution parameters\n",
    "        dist = getattr(scipy.stats, distribution)\n",
    "        param = dist.fit(y_std)\n",
    "        print(\"{}\\n{}\\n\".format(dist, param))\n",
    "      \n",
    "\n",
    "        # Get expected counts in percentile bins\n",
    "        # cdf of fitted sistrinution across bins\n",
    "        cdf_fitted = dist.cdf(percentile_cutoffs, *param)\n",
    "        expected_frequency = []\n",
    "        for bin in range(len(percentile_bins)-1):\n",
    "            expected_cdf_area = cdf_fitted[bin+1] - cdf_fitted[bin]\n",
    "            expected_frequency.append(expected_cdf_area)\n",
    "\n",
    "        # Chi-square Statistics\n",
    "        expected_frequency = np.array(expected_frequency) * size\n",
    "        cum_expected_frequency = np.cumsum(expected_frequency)\n",
    "        ss = round(sum (((cum_expected_frequency - cum_observed_frequency) ** 2) / cum_observed_frequency),0)\n",
    "        chi_square_statistics.append(ss)\n",
    "\n",
    "\n",
    "    #Sort by minimum ch-square statistics\n",
    "    results = pd.DataFrame()\n",
    "    results['Distribution'] = dist_names\n",
    "    results['chi_square'] = chi_square_statistics\n",
    "    results.sort_values(['chi_square'], inplace=True)\n",
    "\n",
    "\n",
    "    print ('\\nDistributions listed by Betterment of fit:')\n",
    "    print ('............................................')\n",
    "    print (results)"
   ]
  },
  {
   "cell_type": "code",
   "execution_count": 14,
   "id": "11529789",
   "metadata": {},
   "outputs": [
    {
     "name": "stdout",
     "output_type": "stream",
     "text": [
      "<scipy.stats._continuous_distns.weibull_min_gen object at 0x7fa0c1be5fa0>\n",
      "(0.8109163691635107, -0.8416058955389442, 1.1973230559420585)\n",
      "\n",
      "<scipy.stats._continuous_distns.levy_gen object at 0x7fa0c1c29550>\n",
      "(-0.8698740181262562, 0.1980284318256766)\n",
      "\n",
      "<scipy.stats._continuous_distns.weibull_max_gen object at 0x7fa0c1be5100>\n",
      "(288650657.68191135, 166866015.84563956, 166866016.23867932)\n",
      "\n",
      "<scipy.stats._continuous_distns.beta_gen object at 0x7fa0c1bc1970>\n",
      "(0.6391476255491217, 75.82649082591206, -0.8416058955389442, 79.74646779296336)\n",
      "\n",
      "<scipy.stats._continuous_distns.invgauss_gen object at 0x7fa0c1c0acd0>\n",
      "(2.125251170824342, -0.9072365551857959, 0.4268829006528425)\n",
      "\n",
      "<scipy.stats._continuous_distns.gamma_gen object at 0x7fa0c1bf0f10>\n",
      "(0.652253925962152, -0.8416058955389442, 1.2054069546101704)\n",
      "\n",
      "<scipy.stats._continuous_distns.expon_gen object at 0x7fa0c1be09d0>\n",
      "(-0.841605895538944, 0.8416058955389442)\n",
      "\n",
      "<scipy.stats._continuous_distns.lognorm_gen object at 0x7fa0c1c26580>\n",
      "(1.365258367595708, -0.8573582300615976, 0.41143105243636363)\n",
      "\n",
      "<scipy.stats._continuous_distns.pearson3_gen object at 0x7fa0c1c47ac0>\n",
      "(2.5633656009325447, 1.6726757400378976e-16, 1.0786718010832794)\n",
      "\n",
      "<scipy.stats._continuous_distns.triang_gen object at 0x7fa0c1c5ef10>\n",
      "(1.5307947301326436e-07, -0.841607102500954, 7.342430855973374)\n",
      "\n",
      "<scipy.stats._continuous_distns.chi2_gen object at 0x7fa0c1bd5910>\n",
      "(1.1593537739206776, -0.8416058955389442, 1.1650139365194692)\n",
      "\n",
      "\n",
      "Distributions listed by Betterment of fit:\n",
      "............................................\n",
      "   Distribution  chi_square\n",
      "7       lognorm        12.0\n",
      "5         gamma        16.0\n",
      "4      invgauss        19.0\n",
      "8      pearson3        21.0\n",
      "1          levy        43.0\n",
      "10         chi2        58.0\n",
      "3          beta        59.0\n",
      "6         expon        61.0\n",
      "0   weibull_min       111.0\n",
      "2   weibull_max       371.0\n",
      "9        triang      1119.0\n"
     ]
    }
   ],
   "source": [
    "#fit_distribution('sub.precip',0.99,0.01)\n",
    "fit_distribution('sub.precip',1,0)"
   ]
  },
  {
   "cell_type": "code",
   "execution_count": 15,
   "id": "faeeea9f",
   "metadata": {},
   "outputs": [],
   "source": [
    "y_std, len_y, y = standarise('sub.precip',1,0)"
   ]
  },
  {
   "cell_type": "code",
   "execution_count": 23,
   "id": "e1d6928b",
   "metadata": {},
   "outputs": [
    {
     "data": {
      "text/plain": [
       "Text(0, 0.5, 'Frequency')"
      ]
     },
     "execution_count": 23,
     "metadata": {},
     "output_type": "execute_result"
    },
    {
     "data": {
      "image/png": "[encoded data removed]",
      "text/plain": [
       "<Figure size 432x288 with 1 Axes>"
      ]
     },
     "metadata": {
      "needs_background": "light"
     },
     "output_type": "display_data"
    }
   ],
   "source": [
    "plt.hist(y)\n",
    "plt.xlabel('sub.precip')\n",
    "plt.ylabel('Frequency')"
   ]
  },
  {
   "cell_type": "code",
   "execution_count": 24,
   "id": "039dc8c6",
   "metadata": {},
   "outputs": [
    {
     "data": {
      "image/png": "[encoded data removed]",
      "text/plain": [
       "<Figure size 648x360 with 3 Axes>"
      ]
     },
     "metadata": {
      "needs_background": "light"
     },
     "output_type": "display_data"
    }
   ],
   "source": [
    "# f = plt.figure()\n",
    "# plt.subplot(y,expon.pdf(y_std,-1.19, 1.19))\n",
    "# plt.subplot(y,invgauss.pdf(y_std,0.45, -1.64, 3.61))\n",
    "# f.show()\n",
    "\n",
    "# The distributions performing well with the data are lognorm and gamma\n",
    "fig, axes = plt.subplots(nrows=1, ncols=3, figsize=(9, 5))\n",
    "axes[0].hist(y)\n",
    "axes[0].set_xlabel('sub.precip\\n\\nHistogram plot of Oberseved Data')\n",
    "axes[0].set_ylabel('Frequency')\n",
    "axes[1].plot(y,lognorm.pdf(y_std, 1.365, -0.857, 0.411))\n",
    "axes[1].set_xlabel('sub.precip\\n\\nLognormal Distribution')\n",
    "axes[1].set_ylabel('pdf')\n",
    "axes[2].plot(y,gamma.pdf(y_std, 0.652, -0.841, 1.205))\n",
    "axes[2].set_xlabel('sub.precip\\n\\nGamma Distribution')\n",
    "axes[2].set_ylabel('pdf')\n",
    "fig.tight_layout()"
   ]
  },
  {
   "cell_type": "code",
   "execution_count": 25,
   "id": "47345d1a",
   "metadata": {},
   "outputs": [
    {
     "data": {
      "image/png": "[encoded data removed]",
      "text/plain": [
       "<Figure size 432x288 with 1 Axes>"
      ]
     },
     "metadata": {
      "needs_background": "light"
     },
     "output_type": "display_data"
    }
   ],
   "source": [
    "f = plt.figure()\n",
    "plt.plot(y,lognorm.pdf(y_std,1.365, -0.857, 0.411))\n",
    "f.show()"
   ]
  },
  {
   "cell_type": "code",
   "execution_count": 26,
   "id": "a36bc4d0",
   "metadata": {},
   "outputs": [
    {
     "data": {
      "image/png": "[encoded data removed]",
      "text/plain": [
       "<Figure size 432x288 with 1 Axes>"
      ]
     },
     "metadata": {
      "needs_background": "light"
     },
     "output_type": "display_data"
    }
   ],
   "source": [
    "f = plt.figure()\n",
    "plt.plot(y,gamma.pdf(y_std,0.652, -0.841, 1.205))\n",
    "f.show()"
   ]
  },
  {
   "cell_type": "code",
   "execution_count": 35,
   "id": "5718b9a1",
   "metadata": {},
   "outputs": [],
   "source": [
    "data = lognorm.pdf(y_std, 1.365, -0.857, 0.411)"
   ]
  },
  {
   "cell_type": "code",
   "execution_count": 36,
   "id": "6213372b",
   "metadata": {},
   "outputs": [],
   "source": []
  },
  {
   "cell_type": "code",
   "execution_count": 37,
   "id": "73b8567b",
   "metadata": {},
   "outputs": [
    {
     "data": {
      "text/plain": [
       "(1.0256051100369115, -0.0495271831672606, 0.5327148755349265)"
      ]
     },
     "execution_count": 37,
     "metadata": {},
     "output_type": "execute_result"
    }
   ],
   "source": []
  },
  {
   "cell_type": "code",
   "execution_count": 105,
   "id": "a09af440",
   "metadata": {},
   "outputs": [
    {
     "data": {
      "text/plain": [
       "-485.9103106762931"
      ]
     },
     "execution_count": 105,
     "metadata": {},
     "output_type": "execute_result"
    }
   ],
   "source": [
    "#logliklihood of the lognormal pdf\n",
    "logLik = np.sum(scipy.stats.lognorm.logpdf(y_std, 1.365258367595708, -0.8573582300615976, 0.41143105243636363))\n",
    "logLik"
   ]
  },
  {
   "cell_type": "code",
   "execution_count": 106,
   "id": "5cbd7444",
   "metadata": {},
   "outputs": [
    {
     "data": {
      "text/plain": [
       "977.8206213525862"
      ]
     },
     "execution_count": 106,
     "metadata": {},
     "output_type": "execute_result"
    }
   ],
   "source": [
    "# AIC value for lognormal distribution\n",
    "\n",
    "k = 3 # number of parameters\n",
    "aic = 2*k - 2*(logLik) # formula\n",
    "aic"
   ]
  },
  {
   "cell_type": "code",
   "execution_count": 109,
   "id": "5b77f55f",
   "metadata": {},
   "outputs": [
    {
     "data": {
      "text/plain": [
       "-325.87736657825343"
      ]
     },
     "execution_count": 109,
     "metadata": {},
     "output_type": "execute_result"
    }
   ],
   "source": [
    "# logliklihood of the gamma distribution\n",
    "logLik2 = np.sum(scipy.stats.gamma.logpdf(y_std, 0.652253925962152, -0.8416058955389442, 1.2054069546101704))\n",
    "logLik2"
   ]
  },
  {
   "cell_type": "code",
   "execution_count": 110,
   "id": "f8e05d58",
   "metadata": {},
   "outputs": [
    {
     "data": {
      "text/plain": [
       "657.7547331565069"
      ]
     },
     "execution_count": 110,
     "metadata": {},
     "output_type": "execute_result"
    }
   ],
   "source": [
    "# AIC of the gamma distribution\n",
    "k = 3 # number of parameters\n",
    "aic = 2*k - 2*(logLik2)\n",
    "aic"
   ]
  },
  {
   "cell_type": "code",
   "execution_count": null,
   "id": "bd30acf2",
   "metadata": {},
   "outputs": [],
   "source": [
    "# It can be seen that the lognormal distribution that estimate the data better."
   ]
  },
  {
   "cell_type": "code",
   "execution_count": 46,
   "id": "01519104",
   "metadata": {},
   "outputs": [],
   "source": [
    " "
   ]
  },
  {
   "cell_type": "code",
   "execution_count": 113,
   "id": "e47be05a",
   "metadata": {},
   "outputs": [
    {
     "data": {
      "text/plain": [
       "-489.5540064863921"
      ]
     },
     "execution_count": 113,
     "metadata": {},
     "output_type": "execute_result"
    }
   ],
   "source": [
    "# for inverse gaussian\n",
    "logLik3 = scipy.stats.invgauss.logpdf(y_std, 2.125251170824342, -0.9072365551857959, 0.4268829006528425).sum()\n",
    "logLik3"
   ]
  },
  {
   "cell_type": "code",
   "execution_count": 114,
   "id": "50f5a361",
   "metadata": {},
   "outputs": [
    {
     "data": {
      "text/plain": [
       "985.1080129727842"
      ]
     },
     "execution_count": 114,
     "metadata": {},
     "output_type": "execute_result"
    }
   ],
   "source": [
    "k = 3\n",
    "aic = 2*k - 2*(logLik3)\n",
    "aic"
   ]
  },
  {
   "cell_type": "code",
   "execution_count": 116,
   "id": "f662f7f9",
   "metadata": {},
   "outputs": [
    {
     "data": {
      "text/plain": [
       "-312.3996294781638"
      ]
     },
     "execution_count": 116,
     "metadata": {},
     "output_type": "execute_result"
    }
   ],
   "source": [
    "# for pearson3 distribution\n",
    "logLik4 = scipy.stats.pearson3.logpdf(y_std, 2.5633656009325447, 1.6726757400378976e-16, 1.0786718010832794).sum()\n",
    "logLik4 "
   ]
  },
  {
   "cell_type": "code",
   "execution_count": 117,
   "id": "69f98a39",
   "metadata": {},
   "outputs": [
    {
     "data": {
      "text/plain": [
       "630.7992589563275"
      ]
     },
     "execution_count": 117,
     "metadata": {},
     "output_type": "execute_result"
    }
   ],
   "source": [
    "k = 3\n",
    "aic = 2*k - 2*(logLik4)\n",
    "aic"
   ]
  },
  {
   "cell_type": "code",
   "execution_count": 118,
   "id": "8af5bc09",
   "metadata": {},
   "outputs": [
    {
     "data": {
      "text/plain": [
       "-331.68040087417774"
      ]
     },
     "execution_count": 118,
     "metadata": {},
     "output_type": "execute_result"
    }
   ],
   "source": [
    "# for beta distribution\n",
    "logLik5 = scipy.stats.beta.logpdf(y_std, 0.6391476255491217, 75.82649082591206, -0.8416058955389442, 79.74646779296336).sum()\n",
    "logLik5"
   ]
  },
  {
   "cell_type": "code",
   "execution_count": 119,
   "id": "9c478a38",
   "metadata": {},
   "outputs": [
    {
     "data": {
      "text/plain": [
       "669.3608017483555"
      ]
     },
     "execution_count": 119,
     "metadata": {},
     "output_type": "execute_result"
    }
   ],
   "source": [
    "k = 3\n",
    "aic = 2*k - 2*(logLik5)\n",
    "aic"
   ]
  },
  {
   "cell_type": "code",
   "execution_count": 120,
   "id": "bb7705d2",
   "metadata": {},
   "outputs": [
    {
     "data": {
      "text/plain": [
       "-477.5001398123728"
      ]
     },
     "execution_count": 120,
     "metadata": {},
     "output_type": "execute_result"
    }
   ],
   "source": [
    "logexpon = scipy.stats.expon.logpdf(y_std, -0.841605895538944, 0.8416058955389442).sum()\n",
    "logexpon"
   ]
  },
  {
   "cell_type": "code",
   "execution_count": 121,
   "id": "7d68c2aa",
   "metadata": {},
   "outputs": [
    {
     "data": {
      "text/plain": [
       "959.0002796247456"
      ]
     },
     "execution_count": 121,
     "metadata": {},
     "output_type": "execute_result"
    }
   ],
   "source": [
    "expon.aic = 2*2 - 2*(logexpon)\n",
    "expon.aic"
   ]
  },
  {
   "cell_type": "code",
   "execution_count": 124,
   "id": "38f36030",
   "metadata": {},
   "outputs": [
    {
     "data": {
      "text/plain": [
       "-336.6974623235177"
      ]
     },
     "execution_count": 124,
     "metadata": {},
     "output_type": "execute_result"
    }
   ],
   "source": [
    "#Chi-squared distribution\n",
    "logchi2 = scipy.stats.chi2.logpdf(y_std, 1.1593537739206776, -0.8416058955389442, 1.1650139365194692).sum()\n",
    "logchi2"
   ]
  },
  {
   "cell_type": "code",
   "execution_count": 125,
   "id": "9065f8b3",
   "metadata": {},
   "outputs": [
    {
     "data": {
      "text/plain": [
       "679.3949246470354"
      ]
     },
     "execution_count": 125,
     "metadata": {},
     "output_type": "execute_result"
    }
   ],
   "source": [
    "aic = 2*3 - 2*(logchi2)\n",
    "aic"
   ]
  },
  {
   "cell_type": "code",
   "execution_count": null,
   "id": "7ba10793",
   "metadata": {},
   "outputs": [],
   "source": []
  }
 ],
 "metadata": {
  "kernelspec": {
   "display_name": "Python 3 (ipykernel)",
   "language": "python",
   "name": "python3"
  },
  "language_info": {
   "codemirror_mode": {
    "name": "ipython",
    "version": 3
   },
   "file_extension": ".py",
   "mimetype": "text/x-python",
   "name": "python",
   "nbconvert_exporter": "python",
   "pygments_lexer": "ipython3",
   "version": "3.8.10"
  }
 },
 "nbformat": 4,
 "nbformat_minor": 5
}
